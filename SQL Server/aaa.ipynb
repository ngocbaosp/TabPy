{
 "cells": [
  {
   "cell_type": "code",
   "execution_count": 20,
   "metadata": {
    "collapsed": true,
    "pycharm": {
     "is_executing": false
    }
   },
   "outputs": [
    {
     "name": "stdout",
     "text": [
      "[3 5]\n"
     ],
     "output_type": "stream"
    }
   ],
   "source": [
    "import math\n",
    "import numpy as np\n",
    "import pandas as pd\n",
    "from sklearn.model_selection import GridSearchCV, cross_val_score, cross_val_predict \n",
    "from sklearn.linear_model import LogisticRegressionCV\n",
    "from sklearn.naive_bayes import GaussianNB\n",
    "from sklearn import preprocessing, metrics, svm, ensemble\n",
    "from sklearn.metrics import accuracy_score, classification_report\n",
    "import tabpy_client \n",
    "\n",
    "\n",
    "# Connect to TabPy server using the client library\n",
    "connection = tabpy_client.Client('http://localhost:9004/')\n",
    "\n",
    "def Add(a,b):\n",
    "    return (a+b);\n",
    "\n",
    "\n",
    "\n",
    "\n",
    "print(Add(np.array([1,2]),np.array([2,3])));\n",
    "\n",
    "# The scoring function that will use the Gradient Boosting Classifier to classify new data points\n",
    "def SuggestDiagnosis(Cl_thickness, Cell_size, Cell_shape, Marg_adhesion, Epith_c_size, \n",
    "                     Bare_nuclei, Bl_cromatin, Normal_nucleoli, Mitoses):\n",
    "    return 'sasasasa';\n",
    "\n",
    "# Publish the SuggestDiagnosis function to TabPy server so it can be used from Tableau\n",
    "# Using the name DiagnosticsDemo and a short description of what it does\n",
    "connection.deploy('TestAdd',\n",
    "                  Add,\n",
    "                  'Returns diagnosis suggestion based on ensemble model trained using Wisconsin Breast Cancer dataset', override = True)\n",
    "\n",
    "# Publish the SuggestDiagnosis function to TabPy server so it can be used from Tableau\n",
    "# Using the name DiagnosticsDemo and a short description of what it does\n",
    "connection.deploy('DiagnosticsDemo',\n",
    "                  SuggestDiagnosis,\n",
    "                  'Returns diagnosis suggestion based on ensemble model trained using Wisconsin Breast Cancer dataset', override = True)"
   ]
  }
 ],
 "metadata": {
  "kernelspec": {
   "name": "pycharm-469572",
   "language": "python",
   "display_name": "PyCharm (SQL Server)"
  },
  "language_info": {
   "codemirror_mode": {
    "name": "ipython",
    "version": 2
   },
   "file_extension": ".py",
   "mimetype": "text/x-python",
   "name": "python",
   "nbconvert_exporter": "python",
   "pygments_lexer": "ipython2",
   "version": "2.7.6"
  },
  "pycharm": {
   "stem_cell": {
    "cell_type": "raw",
    "source": [],
    "metadata": {
     "collapsed": false
    }
   }
  }
 },
 "nbformat": 4,
 "nbformat_minor": 0
}